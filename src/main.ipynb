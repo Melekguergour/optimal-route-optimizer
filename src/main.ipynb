{
  "nbformat": 4,
  "nbformat_minor": 0,
  "metadata": {
    "colab": {
      "provenance": []
    },
    "kernelspec": {
      "name": "python3",
      "display_name": "Python 3"
    },
    "language_info": {
      "name": "python"
    }
  },
  "cells": [
    {
      "cell_type": "markdown",
      "source": [
        "# **Bib**"
      ],
      "metadata": {
        "id": "hmoyS0b8Zgp2"
      }
    },
    {
      "cell_type": "code",
      "source": [
        "import os\n",
        "import pandas as pd\n",
        "import numpy as np\n",
        "from geopy.distance import geodesic\n",
        "import folium\n",
        "import matplotlib.pyplot as plt\n",
        "import random"
      ],
      "metadata": {
        "id": "dggYyy9XZgBW"
      },
      "execution_count": null,
      "outputs": []
    },
    {
      "cell_type": "markdown",
      "source": [
        "### `load_plt_file(file_path)`\n",
        "\n",
        "This function loads a GPS trajectory file in `.plt` format and converts it into a structured Pandas DataFrame.\n",
        "\n",
        "- **Skips the first 6 header lines** (GeoLife format).\n",
        "- **Assigns the following column names**:\n",
        "  - `latitude`: Latitude coordinate\n",
        "  - `longitude`: Longitude coordinate\n",
        "  - `zero`: Constant zero (not used)\n",
        "  - `altitude`: Altitude in meters\n",
        "  - `days`: Days since a reference date\n",
        "  - `date`: Date of the GPS point\n",
        "  - `time`: Time of the GPS point\n",
        "\n",
        "**Returns:** A DataFrame containing the structured GPS data."
      ],
      "metadata": {
        "id": "-AGl5uG0Z-jW"
      }
    },
    {
      "cell_type": "code",
      "source": [
        "def load_plt_file(file_path):\n",
        "    columns = ['latitude', 'longitude', 'zero', 'altitude', 'days', 'date', 'time']\n",
        "    data = pd.read_csv(file_path, skiprows=6, header=None, names=columns)\n",
        "    return data"
      ],
      "metadata": {
        "id": "3cmhwQUbZqW7"
      },
      "execution_count": null,
      "outputs": []
    },
    {
      "cell_type": "markdown",
      "source": [
        "### 📌 `calculate_trajectory_features(data)`\n",
        "\n",
        "This function extracts three essential features from a GPS trajectory dataset:\n",
        "\n",
        "- **Total Distance (`km`)**  \n",
        "  Calculates the total geodesic distance traveled by summing distances between each pair of consecutive points.\n",
        "\n",
        "- **Total Duration (`hours`)**  \n",
        "  Computes the time difference between the first and last GPS timestamp.\n",
        "\n",
        "- **Average Speed (`km/h`)**  \n",
        "  Derived from:  \n",
        "  \\[\n",
        "  \\text{Average Speed} = \\frac{\\text{Total Distance}}{\\text{Total Duration}}\n",
        "  \\]\n",
        "  If duration is zero, speed is set to 0.\n",
        "\n",
        "####  Returns:\n",
        "A tuple:\n",
        "- `total_distance`: Total distance in kilometers  \n",
        "- `total_duration`: Duration in hours  \n",
        "- `avg_speed`: Average speed in km/h\n"
      ],
      "metadata": {
        "id": "Zm5sdUfXaLbu"
      }
    },
    {
      "cell_type": "code",
      "source": [
        "def calculate_trajectory_features(data):\n",
        "    total_distance = 0\n",
        "    for i in range(1, len(data)):\n",
        "        point1 = (data.iloc[i-1]['latitude'], data.iloc[i-1]['longitude'])\n",
        "        point2 = (data.iloc[i]['latitude'], data.iloc[i]['longitude'])\n",
        "        total_distance += geodesic(point1, point2).km\n",
        "\n",
        "    start_time = pd.to_datetime(data.iloc[0]['date'] + ' ' + data.iloc[0]['time'])\n",
        "    end_time = pd.to_datetime(data.iloc[-1]['date'] + ' ' + data.iloc[-1]['time'])\n",
        "    total_duration = (end_time - start_time).total_seconds() / 3600\n",
        "\n",
        "    avg_speed = total_distance / total_duration if total_duration > 0 else 0\n",
        "\n",
        "    return total_distance, total_duration, avg_speed"
      ],
      "metadata": {
        "id": "TJGywvdHaPjF"
      },
      "execution_count": null,
      "outputs": []
    },
    {
      "cell_type": "markdown",
      "source": [
        "### 📦 `process_all_trajectories(base_path, max_files_per_user=20)`\n",
        "\n",
        "This function processes multiple users' GPS trajectory files and extracts features (distance, duration, and speed) from each one.\n",
        "\n",
        "####  What it does:\n",
        "- Iterates through all users in the dataset directory.\n",
        "- Looks into each user's `Trajectory` folder.\n",
        "- Optionally limits the number of `.plt` files processed per user using `max_files_per_user`.\n",
        "- For each selected `.plt` file:\n",
        "  - Loads GPS data using `load_plt_file`.\n",
        "  - Extracts total distance, duration, and average speed using `calculate_trajectory_features`.\n",
        "  - Stores the results with `user_id` and file name.\n",
        "\n",
        "####  Parameters:\n",
        "- `base_path` (*str*): Path to the main dataset folder containing all users' directories.\n",
        "- `max_files_per_user` (*int*): Maximum number of trajectory files to process per user (default = 20).\n",
        "\n",
        "####  Returns:\n",
        "A Pandas DataFrame with the following columns:\n",
        "- `user_id`\n",
        "- `file`\n",
        "- `distance` (km)\n",
        "- `duration` (hours)\n",
        "- `speed` (km/h)\n"
      ],
      "metadata": {
        "id": "qHgb3SoRahkv"
      }
    },
    {
      "cell_type": "markdown",
      "source": [
        "def process_all_trajectories(base_path, max_files_per_user=20):\n",
        "    all_features = []\n",
        "    for user_id in os.listdir(base_path):\n",
        "        user_path = os.path.join(base_path, user_id, \"Trajectory\")\n",
        "        if os.path.exists(user_path):\n",
        "            plt_files = os.listdir(user_path)\n",
        "            if len(plt_files) > max_files_per_user:\n",
        "                plt_files = random.sample(plt_files, max_files_per_user)\n",
        "\n",
        "            for plt_file in plt_files:\n",
        "                plt_path = os.path.join(user_path, plt_file)\n",
        "                try:\n",
        "                    data = load_plt_file(plt_path)\n",
        "                    distance, duration, speed = calculate_trajectory_features(data)\n",
        "                    all_features.append({\n",
        "                        'user_id': user_id,\n",
        "                        'file': plt_file,\n",
        "                        'distance': distance,\n",
        "                        'duration': duration,\n",
        "                        'speed': speed\n",
        "                    })\n",
        "                except Exception as e:\n",
        "                    print(f\"Error processing {plt_file}: {e}\")\n",
        "    return pd.DataFrame(all_features)\n"
      ],
      "metadata": {
        "id": "ZBdiPhZDalSB"
      }
    },
    {
      "cell_type": "markdown",
      "source": [
        "### 📥 Installing and Using the Kaggle API to Download the GeoLife Dataset\n",
        "\n",
        "This section demonstrates how to install the Kaggle API, authenticate using your Kaggle API key, and download the GeoLife dataset.\n",
        "\n",
        "#### 🔧 Steps:\n",
        "1. **Install the Kaggle API:**\n",
        "   The `kaggle` Python package is installed to allow interaction with Kaggle datasets programmatically.\n",
        "   ```python\n",
        "   !pip install kaggle\n"
      ],
      "metadata": {
        "id": "6PnkVAPka6Zr"
      }
    },
    {
      "cell_type": "code",
      "source": [
        "\n",
        "!pip install kaggle\n",
        "\n",
        "\n",
        "import os\n",
        "os.makedirs(\"/root/.kaggle\", exist_ok=True)\n",
        "\n",
        "\n",
        "from google.colab import drive\n",
        "drive.mount('/content/drive')\n",
        "\n",
        "\n",
        "!cp /content/drive/MyDrive/kaggle.json /root/.kaggle/kaggle.json\n",
        "!chmod 600 /root/.kaggle/kaggle.json\n",
        "\n",
        "!kaggle datasets download -d marquis03/geolife-trajectories-1-3\n",
        "!unzip geolife-trajectories-1-3.zip -d ./geolife_data\n"
      ],
      "metadata": {
        "id": "kvuc0jWpa26K"
      },
      "execution_count": null,
      "outputs": []
    },
    {
      "cell_type": "markdown",
      "source": [
        "### 🛣️ Optimal Trajectory Evaluation and Visualization\n",
        "\n",
        "This code processes trajectory data to evaluate different routes based on distance, duration, and speed, and calculates the utility of each route to determine the optimal one.\n",
        "\n",
        "#### 🔧 Steps:\n",
        "\n",
        "1. **Set the Base Path for Data:**\n",
        "   - The `base_path` variable is set to the location of the trajectory data.\n",
        "   ```python\n",
        "   base_path = \"path to the data\"\n"
      ],
      "metadata": {
        "id": "FFoTW600bH1q"
      }
    },
    {
      "cell_type": "code",
      "execution_count": null,
      "metadata": {
        "id": "nTmyD6Rl-_Xu"
      },
      "outputs": [],
      "source": [
        "\n",
        "\n",
        "base_path = \"path to the data\"\n",
        "\n",
        "\n",
        "evaluation_matrix = process_all_trajectories(base_path, max_files_per_user=5)\n",
        "print(evaluation_matrix.head())\n",
        "\n",
        "\n",
        "normalized_matrix = evaluation_matrix.copy()\n",
        "normalized_matrix['distance'] /= normalized_matrix['distance'].sum()\n",
        "normalized_matrix['duration'] = (normalized_matrix['duration'].max() - normalized_matrix['duration']) / \\\n",
        "                                (normalized_matrix['duration'].max() - normalized_matrix['duration'].min())\n",
        "normalized_matrix['speed'] /= normalized_matrix['speed'].sum()\n",
        "print(normalized_matrix.head())\n",
        "\n",
        "proportions = normalized_matrix[['distance', 'duration', 'speed']].div(normalized_matrix[['distance', 'duration', 'speed']].sum(axis=0))\n",
        "entropy = -np.sum(proportions * np.log(proportions + 1e-12), axis=0) / np.log(len(proportions))\n",
        "variation_coefficients = 1 - entropy\n",
        "objective_weights = variation_coefficients / variation_coefficients.sum()\n",
        "print(\"Objective Weights:\", objective_weights)\n",
        "\n",
        "\n",
        "subjective_weights = np.array([0.4, 0.3, 0.3])\n",
        "alpha = 0.5\n",
        "global_weights = alpha * subjective_weights + (1 - alpha) * objective_weights\n",
        "print(\"Global Weights:\", global_weights)\n",
        "\n",
        "\n",
        "global_utility = np.dot(normalized_matrix[['distance', 'duration', 'speed']], global_weights)\n",
        "evaluation_matrix['Utility'] = global_utility\n",
        "\n",
        "\n",
        "optimal_trajectory = evaluation_matrix.loc[evaluation_matrix['Utility'].idxmax()]\n",
        "print(\"Optimal Trajectoiry :\", optimal_trajectory)\n",
        "\n",
        "\n",
        "plt.figure(figsize=(10, 6))\n",
        "plt.bar(evaluation_matrix.index, evaluation_matrix['Utility'], color='skyblue')\n",
        "plt.xlabel(\"Trajectoires\", fontsize=12)\n",
        "plt.ylabel(\"Utility\", fontsize=12)\n",
        "plt.title(\"Trajectories Evaluation - Utility Scores\", fontsize=14)\n",
        "plt.xticks(rotation=90)\n",
        "plt.tight_layout()\n",
        "plt.show()\n",
        "\n",
        "\n",
        "optimal_file_path = os.path.join(base_path, optimal_trajectory['user_id'], 'Trajectory', optimal_trajectory['file'])\n",
        "optimal_data = load_plt_file(optimal_file_path)\n",
        "\n",
        "map_center = [optimal_data.iloc[0]['latitude'], optimal_data.iloc[0]['longitude']]\n",
        "m = folium.Map(location=map_center, zoom_start=12)\n",
        "\n",
        "for i in range(1, len(optimal_data)):\n",
        "    point1 = [optimal_data.iloc[i-1]['latitude'], optimal_data.iloc[i-1]['longitude']]\n",
        "    point2 = [optimal_data.iloc[i]['latitude'], optimal_data.iloc[i]['longitude']]\n",
        "    folium.PolyLine([point1, point2], color='blue', weight=2.5, opacity=1).add_to(m)\n",
        "\n",
        "m.save(\"optimal_trajectory_map.html\")\n",
        "\n"
      ]
    }
  ]
}